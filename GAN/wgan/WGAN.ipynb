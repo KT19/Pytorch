{
 "cells": [
  {
   "cell_type": "code",
   "execution_count": 0,
   "metadata": {
    "colab": {},
    "colab_type": "code",
    "id": "r33MesoQGIKX"
   },
   "outputs": [],
   "source": [
    "import numpy as np\n",
    "import torch\n",
    "import torch.nn as nn\n",
    "import torch.nn.functional as F\n",
    "import torch.optim as optim\n",
    "import torchvision\n",
    "import torchvision.transforms as transforms\n",
    "\n",
    "from tqdm import tqdm\n",
    "import matplotlib.pyplot as plt\n",
    "%matplotlib inline"
   ]
  },
  {
   "cell_type": "code",
   "execution_count": 0,
   "metadata": {
    "colab": {},
    "colab_type": "code",
    "id": "ChWa4WeANwSn"
   },
   "outputs": [],
   "source": [
    "device = (\"cuda\" if torch.cuda.is_available() else \"cpu\")\n",
    "\n",
    "preprocess = transforms.Compose(\n",
    "    [transforms.ToTensor(),\n",
    "    transforms.Normalize((0.5,),(0.5,))]\n",
    ")"
   ]
  },
  {
   "cell_type": "code",
   "execution_count": 0,
   "metadata": {
    "colab": {},
    "colab_type": "code",
    "id": "cx-OSLhHJ8tp"
   },
   "outputs": [],
   "source": [
    "class Discriminator(nn.Module):\n",
    "  def __init__(self):\n",
    "    super(Discriminator,self).__init__()\n",
    "    self.model = nn.Sequential(\n",
    "        nn.Conv2d(1 ,16, kernel_size=(2,2), stride=(2,2)), #14\n",
    "        nn.BatchNorm2d(16),\n",
    "        nn.LeakyReLU(),\n",
    "        nn.Conv2d(16, 32, kernel_size=(2,2), stride=(2,2)), #7\n",
    "        nn.BatchNorm2d(32),\n",
    "        nn.LeakyReLU(),\n",
    "        nn.Conv2d(32, 64, kernel_size=(3,3), stride=(1,1)), #5\n",
    "        nn.BatchNorm2d(64),\n",
    "        nn.LeakyReLU(),\n",
    "        nn.Conv2d(64, 128, kernel_size=(3,3), stride=(1,1)), #3\n",
    "        nn.BatchNorm2d(128),\n",
    "        nn.LeakyReLU(),\n",
    "        nn.Conv2d(128, 1, kernel_size=(3,3), stride=(1,1)), #1\n",
    "    )\n",
    "  \n",
    "  def forward(self, x):\n",
    "    o = self.model(x)\n",
    "    \n",
    "    return o.view(-1,1)"
   ]
  },
  {
   "cell_type": "code",
   "execution_count": 0,
   "metadata": {
    "colab": {},
    "colab_type": "code",
    "id": "RIVteMrZLYUP"
   },
   "outputs": [],
   "source": [
    "class Generator(nn.Module):\n",
    "  def __init__(self,nz):\n",
    "    super(Generator,self).__init__()\n",
    "    self.linear = nn.Linear(nz, 7*7*256)\n",
    "    self.model = nn.Sequential(\n",
    "        nn.ConvTranspose2d(256, 128, kernel_size=(4,4), stride=(2,2), padding=(1,1)), #14\n",
    "        nn.BatchNorm2d(128),\n",
    "        nn.ReLU(),\n",
    "        nn.ConvTranspose2d(128, 1, kernel_size=(4,4), stride=(2,2), padding=(1,1)), #28\n",
    "        nn.Tanh()\n",
    "    )\n",
    "    \n",
    "  def forward(self, noise):\n",
    "    batch_size = noise.size(0)\n",
    "    z = self.linear(noise)\n",
    "    z = z.view(batch_size, 256, 7, 7)\n",
    "    \n",
    "    return self.model(z)"
   ]
  },
  {
   "cell_type": "code",
   "execution_count": 0,
   "metadata": {
    "colab": {},
    "colab_type": "code",
    "id": "vl1iINzC0Op9"
   },
   "outputs": [],
   "source": [
    "def train_with_wasserstein(dataloader, noise_size, discriminator, generator,D_optimizer, G_optimizer,c=0.01,n_critic=5): \n",
    "  def reset_grad():\n",
    "    D_optimizer.zero_grad()\n",
    "    G_optimizer.zero_grad()\n",
    "    \n",
    "  total_d_loss = []\n",
    "  for _ in range(n_critic):\n",
    "    (img,target) = next(iter(dataloader)) \n",
    "    img = img.to(device)\n",
    "    \n",
    "    nz = torch.Tensor(np.random.randn(img.size(0),noise_size)).to(device)\n",
    "    D_optimizer.zero_grad()\n",
    "    d_real = discriminator(img)\n",
    "    d_fake =discriminator(generator(nz))\n",
    "  \n",
    "    D_loss = torch.mean(d_real)-torch.mean(d_fake)\n",
    "    total_d_loss.append(D_loss.item())\n",
    "    D_loss = -1*D_loss\n",
    "    D_loss.backward()\n",
    "    D_optimizer.step()\n",
    "    \n",
    "    for p in discriminator.parameters():\n",
    "      p.data.clamp_(-c, c)\n",
    "      \n",
    "    reset_grad()\n",
    "    \n",
    "  nz = torch.Tensor(np.random.randn(img.size(0),noise_size)).to(device)\n",
    "  d_fake = discriminator(generator(nz))\n",
    "  G_loss = -1*torch.mean(d_fake)\n",
    "  G_loss.backward()\n",
    "  G_optimizer.step()\n",
    "  \n",
    "  reset_grad()\n",
    "  \n",
    "  return np.mean(np.asarray(total_d_loss)), G_loss.item()\n",
    "    "
   ]
  },
  {
   "cell_type": "code",
   "execution_count": 0,
   "metadata": {
    "colab": {},
    "colab_type": "code",
    "id": "1bmGoR5pNmHD"
   },
   "outputs": [],
   "source": [
    "def train():\n",
    "  noise_size = 100\n",
    "  \"\"\"\n",
    "  model set\n",
    "  \"\"\"\n",
    "  discriminator = Discriminator()\n",
    "  discriminator = discriminator.to(device)\n",
    "  discriminator.train()\n",
    "  #discriminator.load_state_dict(torch.load(\"D_params\"))\n",
    "  generator = Generator(noise_size)\n",
    "  generator = generator.to(device)\n",
    "  generator.train()\n",
    "  #generator.load_state_dict(torch.load(\"G_params\"))\n",
    "  \"\"\"\n",
    "  data set\n",
    "  \"\"\"\n",
    "  batch_size = 64\n",
    "  trainset = torchvision.datasets.MNIST(root=\"./\",transform=preprocess,download=True)\n",
    "  dataloader = torch.utils.data.DataLoader(trainset, batch_size=batch_size,shuffle=True)\n",
    "  \n",
    "  #optimizer\n",
    "  D_optimizer = optim.RMSprop(discriminator.parameters(), lr=5e-5)\n",
    "  G_optimizer = optim.RMSprop(generator.parameters(), lr=5e-5)\n",
    "  \n",
    "  \n",
    "  n_iter = 10000\n",
    "  for gen_iter in range(1,n_iter+1):\n",
    "    if(gen_iter % 500 == 0):\n",
    "      print(\"gen_iter: [{}]/[{}]\".format(gen_iter,n_iter))\n",
    "    d_loss,g_loss = train_with_wasserstein(dataloader, noise_size, discriminator, generator, D_optimizer, G_optimizer)\n",
    "    \n",
    "    if(gen_iter % 500 == 0):\n",
    "      print(\"d_loss:[{}] g_loss:[{}]\".format(d_loss,g_loss))\n",
    "    \n",
    "      torch.save(discriminator.state_dict(),\"D_params\")\n",
    "      torch.save(generator.state_dict(),\"G_params\")\n",
    "  "
   ]
  },
  {
   "cell_type": "code",
   "execution_count": 0,
   "metadata": {
    "colab": {},
    "colab_type": "code",
    "id": "tnH_Tj4P4AkE"
   },
   "outputs": [],
   "source": [
    "def eval():\n",
    "  noise_size = 100\n",
    "  \n",
    "  \"\"\"\n",
    "  model set\n",
    "  \"\"\"\n",
    "  generator = Generator(noise_size)\n",
    "  generator = generator.to(device)\n",
    "  generator.load_state_dict(torch.load(\"G_params\"))\n",
    "  generator.eval()\n",
    "  \n",
    "  nz = torch.randn(1, noise_size).to(device)\n",
    "  with torch.no_grad():\n",
    "    outputs = generator(nz)\n",
    "    outputs = outputs[0].to(\"cpu\").numpy()\n",
    "  \n",
    "  outputs = outputs.transpose(1,2,0)\n",
    "  print(outputs.shape)\n",
    "  outputs = outputs*0.5+0.5\n",
    "  plt.imshow(outputs.reshape(28,28))\n",
    "  plt.show()"
   ]
  },
  {
   "cell_type": "code",
   "execution_count": 0,
   "metadata": {
    "colab": {},
    "colab_type": "code",
    "id": "QS7AoXKUNPkM"
   },
   "outputs": [],
   "source": [
    "if __name__ ==\"__main__\":\n",
    "  #train()\n",
    "  eval()"
   ]
  }
 ],
 "metadata": {
  "accelerator": "GPU",
  "colab": {
   "collapsed_sections": [],
   "name": "WGAN.ipynb",
   "provenance": [],
   "version": "0.3.2"
  },
  "kernelspec": {
   "display_name": "Python 3",
   "language": "python",
   "name": "python3"
  },
  "language_info": {
   "codemirror_mode": {
    "name": "ipython",
    "version": 3
   },
   "file_extension": ".py",
   "mimetype": "text/x-python",
   "name": "python",
   "nbconvert_exporter": "python",
   "pygments_lexer": "ipython3",
   "version": "3.6.3"
  }
 },
 "nbformat": 4,
 "nbformat_minor": 1
}
